{
  "cells": [
    {
      "cell_type": "markdown",
      "metadata": {
        "id": "view-in-github",
        "colab_type": "text"
      },
      "source": [
        "<a href=\"https://colab.research.google.com/github/parisaagh/AI-HW3/blob/main/Problem2.ipynb\" target=\"_parent\"><img src=\"https://colab.research.google.com/assets/colab-badge.svg\" alt=\"Open In Colab\"/></a>"
      ]
    },
    {
      "cell_type": "markdown",
      "source": [
        "### ID information"
      ],
      "metadata": {
        "collapsed": false,
        "id": "jGltK0tGN7Ao"
      }
    },
    {
      "cell_type": "code",
      "execution_count": null,
      "outputs": [
        {
          "output_type": "stream",
          "name": "stdout",
          "text": [
            "adam_friends= ['Sophia']\n",
            "david_friends= ['Sophia']\n",
            "sophia_friends= ['Adam', 'David']\n"
          ]
        }
      ],
      "source": [
        "from typing import List, Dict\n",
        "from collections import deque\n",
        "\n",
        "# Define a function to represent the graph data structure\n",
        "class Graph:\n",
        "    def __init__(self):\n",
        "        self.graph = {}\n",
        "\n",
        "    def add_edge(self, u, v):\n",
        "        if u in self.graph:\n",
        "            self.graph[u].append(v)\n",
        "        else:\n",
        "            self.graph[u] = [v]\n",
        "        # Since this is an undirected graph, add an edge from v to u as well\n",
        "        if v in self.graph:\n",
        "            self.graph[v].append(u)\n",
        "        else:\n",
        "            self.graph[v] = [u]\n",
        "\n",
        "    def potential_friends(self, start):\n",
        "        # Perform BFS and find the vertices on the second level\n",
        "        visited = set()  # Keep track of visited nodes\n",
        "        queue = deque([(start, 0)])  # Queue for BFS, with level information\n",
        "        potential_friends = []  # List to keep track of potential friends\n",
        "        friends = set(self.graph[start])  # Immediate friends of 'start'\n",
        "\n",
        "        while queue:\n",
        "            vertex, level = queue.popleft()\n",
        "            if vertex not in visited:\n",
        "                visited.add(vertex)\n",
        "                # We add friends to potential friends if they are 2 steps away, i.e., friends of friends\n",
        "                # and not already direct friends\n",
        "                if level == 2 and vertex not in friends:\n",
        "                    potential_friends.append(vertex)\n",
        "                # We don't queue up vertices beyond level 2 as we are only interested in immediate connections\n",
        "                if level < 2:\n",
        "                    for neighbour in self.graph.get(vertex, []):\n",
        "                        if neighbour not in visited:\n",
        "                            queue.append((neighbour, level + 1))\n",
        "        return potential_friends\n",
        "\n",
        "# Create a graph instance\n",
        "graph = Graph()\n",
        "\n",
        "# Add edges as per the graph at time t\n",
        "# Assuming a bidirectional relationship (friendship is mutual)\n",
        "graph.add_edge('Maria', 'Adam')\n",
        "graph.add_edge('Maria', 'Sophia')\n",
        "graph.add_edge('Sophia', 'Maya')\n",
        "graph.add_edge('Maya', 'David')\n",
        "\n",
        "# Now we can use the potential_friends function to find the immediate connections for any node\n",
        "# We'll define the wrapper function which uses the Graph method for the task\n",
        "\n",
        "def PotentialFriends(G: Graph, person: str) -> List[str]:\n",
        "    return G.potential_friends(person)\n",
        "\n",
        "# Testing the function with the given examples\n",
        "adam_friends = PotentialFriends(graph, 'Adam')\n",
        "david_friends = PotentialFriends(graph, 'David')\n",
        "sophia_friends = PotentialFriends(graph, 'Sophia')\n",
        "\n",
        "print('adam_friends=',adam_friends)\n",
        "print('david_friends=',david_friends)\n",
        "print('sophia_friends=',sophia_friends)"
      ],
      "metadata": {
        "colab": {
          "base_uri": "https://localhost:8080/"
        },
        "id": "sPAqr-KeN7Aq",
        "outputId": "107cf44e-355e-4b8b-fb15-7f7207f7ecf8"
      }
    },
    {
      "cell_type": "markdown",
      "source": [
        "The provided code defines a `Graph` class with methods to add edges and find potential friends using Breadth-First Search (BFS). The `potential_friends` method specifically looks for nodes that are two degrees of separation away from the start node (i.e., friends of friends who are not already direct friends).\n",
        "\n",
        "Breadth-First Search (BFS) is a traversal algorithm used to visit all the nodes of a graph in a breadthward motion. This means that BFS visits nodes level by level from the source node. BFS uses a queue data structure which supports the First-In-First-Out (FIFO) principle to track which vertex/node should be opened next.\n",
        "\n",
        "Here's the step-by-step process of BFS:\n",
        "\n",
        "1. Start by putting any one of the graph's vertices at the back of a queue.\n",
        "2. Take the front item of the queue and add it to the visited list.\n",
        "3. Create a list of that vertex's adjacent nodes. Add the ones which aren't in the visited list to the back of the queue.\n",
        "4. Keep repeating steps 2 and 3 until the queue is empty.\n",
        "\n",
        "Here is a report of what happens when the code is run with the given graph and the `PotentialFriends` function is tested:\n",
        "\n",
        "1. The graph is initialized with edges representing friendships at time `t`.\n",
        "2. The friendships added are as follows:\n",
        "   - Maria is friends with Adam and Sophia.\n",
        "   - Sophia is friends with Maya.\n",
        "   - Maya is friends with David.\n",
        "3. The `PotentialFriends` function is used to find potential friends for Adam, David, and Sophia.\n",
        "\n",
        "The results of the `PotentialFriends` function calls are:\n",
        "- `adam_friends` returns `['Sophia']` which indicates that Sophia is a potential friend of Adam since they are two steps away in the graph and are not direct friends.\n",
        "- `david_friends` returns `['Sophia']` which suggests that Sophia is a potential friend of David, likely because they are also two steps away and not direct friends.\n",
        "- `sophia_friends` returns `['Adam', 'David']` which means both Adam and David are potential friends of Sophia, as they are friends of a friend of Sophia (via Maria and Maya respectively) and not already direct friends with her.\n",
        "\n",
        "These results are consistent with the expected behavior of the algorithm, which is to suggest friends who are not directly connected to the starting person but are connected through a mutual friend. The output is as expected and shows that the BFS algorithm is working correctly to discover potential new friendships in the network at time `t`."
      ],
      "metadata": {
        "collapsed": false,
        "id": "hts74kKLN7As"
      }
    },
    {
      "cell_type": "code",
      "execution_count": null,
      "outputs": [],
      "source": [],
      "metadata": {
        "id": "McoJ-KP0N7As"
      }
    }
  ],
  "metadata": {
    "kernelspec": {
      "display_name": "Python 3",
      "language": "python",
      "name": "python3"
    },
    "language_info": {
      "codemirror_mode": {
        "name": "ipython",
        "version": 3
      },
      "file_extension": ".py",
      "mimetype": "text/x-python",
      "name": "python",
      "nbconvert_exporter": "python",
      "pygments_lexer": "ipython3",
      "version": "3.6.6"
    },
    "colab": {
      "provenance": [],
      "include_colab_link": true
    }
  },
  "nbformat": 4,
  "nbformat_minor": 0
}