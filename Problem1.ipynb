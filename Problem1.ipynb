{
  "cells": [
    {
      "cell_type": "markdown",
      "metadata": {
        "id": "view-in-github",
        "colab_type": "text"
      },
      "source": [
        "<a href=\"https://colab.research.google.com/github/parisaagh/AI-HW3/blob/main/Problem1.ipynb\" target=\"_parent\"><img src=\"https://colab.research.google.com/assets/colab-badge.svg\" alt=\"Open In Colab\"/></a>"
      ]
    },
    {
      "cell_type": "markdown",
      "source": [
        "### ID information"
      ],
      "metadata": {
        "collapsed": false,
        "id": "YmwGakd7NT0e"
      }
    },
    {
      "cell_type": "code",
      "execution_count": 1,
      "outputs": [
        {
          "output_type": "execute_result",
          "data": {
            "text/plain": [
              "['Anna', 'Amy']"
            ]
          },
          "metadata": {},
          "execution_count": 1
        }
      ],
      "source": [
        "def FindFriends(G, User, K):\n",
        "    # Initialize a queue with the start user and a level of 0\n",
        "    queue = [(User, 0)]\n",
        "    visited = set()  # Keep track of visited nodes\n",
        "    kth_level_friends = []  # To store friends at the Kth level\n",
        "\n",
        "    while queue:\n",
        "        current_user, level = queue.pop(0)  # Dequeue the first element\n",
        "\n",
        "        if level == K:\n",
        "            # If the current level is K, we add the user to the result list\n",
        "            kth_level_friends.append(current_user)\n",
        "            # Note: No need to visit further from this user as we are only interested in Kth level friends\n",
        "            continue\n",
        "\n",
        "        if current_user not in visited:\n",
        "            # Mark the current user as visited\n",
        "            visited.add(current_user)\n",
        "\n",
        "            # Enqueue all unvisited friends of the current user\n",
        "            for friend in G.get(current_user, []):\n",
        "                if friend not in visited:\n",
        "                    queue.append((friend, level + 1))\n",
        "\n",
        "    return kth_level_friends\n",
        "\n",
        "# Define the corrected graph again, assuming no changes are needed from the last correction\n",
        "G_corrected = {\n",
        "    'Bob': ['Pam', 'Rob','Richard'],\n",
        "    'Pam': ['Roger','Peter'],\n",
        "    'Peter': ['Amy'],\n",
        "    'Roger': ['Anna'],  # Amy is connected to Ella\n",
        "}\n",
        "\n",
        "# Attempt to find 3rd-level friends of Bob again with the corrected logic\n",
        "FindFriends(G_corrected, 'Bob', 3)\n"
      ],
      "metadata": {
        "id": "ceshrGITNT0g",
        "outputId": "7ac347a4-85d0-41b7-d96a-b52d7339b0a6",
        "colab": {
          "base_uri": "https://localhost:8080/"
        }
      }
    },
    {
      "cell_type": "markdown",
      "source": [
        "The `FindFriends` function is designed to find friends of a given user up to a certain level of connection in a social network represented by a graph. Let's analyze the corrected graph and the function's execution to find the 3rd-level friends of Bob:\n",
        "\n",
        "1. **Graph Correction**:\n",
        "   - Bob is connected to Pam, Rob, and Richard.\n",
        "   - Pam is connected to Roger and Peter.\n",
        "   - Peter is connected to Amy.\n",
        "   - Roger is connected to Anna.\n",
        "\n",
        "2. **Function Execution**:\n",
        "   - We start with Bob as the initial user and search for friends up to the 3rd level.\n",
        "   - At level 0 (Bob), we enqueue Bob.\n",
        "   - At level 1, we dequeue Bob and enqueue his friends: Pam, Rob, and Richard.\n",
        "   - At level 2, we dequeue Pam, Rob, and Richard, and enqueue their friends: Roger and Peter.\n",
        "   - At level 3, we dequeue Roger and Peter and enqueue their friends: Anna and Amy.\n",
        "\n",
        "3. **Result**:\n",
        "   - At level 3, we have Anna and Amy as the 3rd-level friends of Bob.\n",
        "   - So, the result of the function call `FindFriends(G_corrected, 'Bob', 3)` would be `['Anna', 'Amy']`.\n",
        "\n",
        "Therefore, the report from the function execution is that Bob has two 3rd-level friends in the corrected graph: Anna and Amy."
      ],
      "metadata": {
        "collapsed": false,
        "id": "O9n3VKLINT0h"
      }
    },
    {
      "cell_type": "code",
      "execution_count": null,
      "outputs": [],
      "source": [],
      "metadata": {
        "id": "KB_IyR39NT0i"
      }
    }
  ],
  "metadata": {
    "kernelspec": {
      "display_name": "Python 3",
      "language": "python",
      "name": "python3"
    },
    "language_info": {
      "codemirror_mode": {
        "name": "ipython",
        "version": 3
      },
      "file_extension": ".py",
      "mimetype": "text/x-python",
      "name": "python",
      "nbconvert_exporter": "python",
      "pygments_lexer": "ipython3",
      "version": "3.6.6"
    },
    "colab": {
      "provenance": [],
      "include_colab_link": true
    }
  },
  "nbformat": 4,
  "nbformat_minor": 0
}