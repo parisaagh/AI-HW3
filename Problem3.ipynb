{
  "cells": [
    {
      "cell_type": "markdown",
      "metadata": {
        "id": "view-in-github",
        "colab_type": "text"
      },
      "source": [
        "<a href=\"https://colab.research.google.com/github/parisaagh/AI-HW3/blob/main/Problem3.ipynb\" target=\"_parent\"><img src=\"https://colab.research.google.com/assets/colab-badge.svg\" alt=\"Open In Colab\"/></a>"
      ]
    },
    {
      "cell_type": "markdown",
      "source": [
        "### ID information"
      ],
      "metadata": {
        "collapsed": false,
        "id": "YHcVcqyOP24g"
      }
    },
    {
      "cell_type": "code",
      "execution_count": null,
      "outputs": [
        {
          "output_type": "execute_result",
          "data": {
            "text/plain": [
              "('SUCCESS', 'FAILURE')"
            ]
          },
          "metadata": {},
          "execution_count": 1
        }
      ],
      "source": [
        "\n",
        "#Parisa Aghazadeh\n",
        "#Purpose: Develop a Depth-First Search (DFS) algorithm\n",
        "#to determine if a goal node is reachable from a start node within a graph,\n",
        "#returning SUCCESS if reachable, and FAILURE if not.\n",
        "def dfs(graph, current_vertex, target, visited=None):\n",
        "    if visited is None:\n",
        "        visited = set()\n",
        "    visited.add(current_vertex)\n",
        "    # If we reached the goal, return success\n",
        "    if current_vertex == target:\n",
        "        return \"SUCCESS\"\n",
        "    # Recur for all the vertices adjacent to this vertex\n",
        "    for neighbor in graph[current_vertex]:\n",
        "        if neighbor not in visited:\n",
        "            result = dfs(graph, neighbor, target, visited)\n",
        "            if result == \"SUCCESS\":\n",
        "                return \"SUCCESS\"\n",
        "    return \"FAILURE\"\n",
        "\n",
        "# Hypothetical representation of the mazes as adjacency lists.\n",
        "# Let's assume that 'S' is the start node and 'G' is the goal node.\n",
        "\n",
        "# This graph represents a maze that has a path from start to goal.\n",
        "solvable_maze_graph = {\n",
        "    'S': ['A', 'B'],\n",
        "    'A': ['C'],\n",
        "    'B': ['D'],\n",
        "    'C': ['G'],\n",
        "    'D': [],\n",
        "    'G': []\n",
        "}\n",
        "\n",
        "# This graph represents a maze with no path from start to goal.\n",
        "unsolvable_maze_graph = {\n",
        "    'S': ['A', 'B'],\n",
        "    'A': [],\n",
        "    'B': ['D'],\n",
        "    'C': ['G'],\n",
        "    'D': [],\n",
        "    'G': []\n",
        "}\n",
        "\n",
        "# Test the DFS algorithm on both mazes.\n",
        "solvable_result = dfs(solvable_maze_graph, 'S', 'G')\n",
        "unsolvable_result = dfs(unsolvable_maze_graph, 'S', 'G')\n",
        "\n",
        "(solvable_result, unsolvable_result)\n"
      ],
      "metadata": {
        "colab": {
          "base_uri": "https://localhost:8080/"
        },
        "id": "4F99U6gnP24j",
        "outputId": "174f8090-060c-49ea-da06-ebaaa99b8ef3"
      }
    },
    {
      "cell_type": "markdown",
      "source": [
        "The provided code implements a depth-first search (DFS) algorithm to traverse through graphs represented as adjacency lists. This algorithm is used to find a path from a start node to a target node within the graphs. The graphs are hypothetical representations of mazes, where 'S' denotes the start node and 'G' the goal node. Two mazes (graphs) are tested: one is solvable (there is a path from 'S' to 'G'), and the other is unsolvable (there is no path from 'S' to 'G').\n",
        "\n",
        "### How DFS Works:\n",
        "- The function `dfs` takes four arguments: `graph`, `current_vertex`, `target`, and `visited`. The `graph` represents the maze, `current_vertex` is the current node being visited, `target` is the node we aim to reach, and `visited` is a set of nodes already visited to avoid cycles.\n",
        "- If `visited` is `None` (indicating the first call to `dfs`), it is initialized to an empty set.\n",
        "- The current vertex is added to the `visited` set to mark it as explored.\n",
        "- The algorithm checks if the current vertex is the target (`G`). If so, it returns \"SUCCESS\".\n",
        "- It then recursively visits each unvisited neighbor of the current vertex. If any recursive call returns \"SUCCESS\", the function immediately returns \"SUCCESS\".\n",
        "- If no path to the target is found after exploring all neighbors, the function returns \"FAILURE\".\n",
        "\n",
        "### Testing the Algorithm:\n",
        "- **Solvable Maze:** For the solvable maze graph, there is a path from 'S' to 'G' through the vertices 'A' and 'C'. Therefore, the DFS algorithm should successfully find this path, returning \"SUCCESS\".\n",
        "- **Unsolvable Maze:** For the unsolvable maze graph, there is no path from 'S' to 'G' because neither 'A' nor 'B' (and their subsequent vertices) lead to 'G'. Therefore, the DFS algorithm should return \"FAILURE\".\n",
        "\n",
        "### Expected Results:\n",
        "Based on the provided code and the structure of the two graphs, the expected output of testing the DFS algorithm on both mazes would be:\n",
        "- For the solvable maze graph: \"SUCCESS\"\n",
        "- For the unsolvable maze graph: \"FAILURE\"\n",
        "\n",
        "Hence, the tuple `(solvable_result, unsolvable_result)` should contain `(\"SUCCESS\", \"FAILURE\")` as its values, indicating that the DFS algorithm correctly identified the solvable maze and recognized that the unsolvable maze has no path from the start node to the goal node."
      ],
      "metadata": {
        "collapsed": false,
        "id": "z5zY2qtQP24k"
      }
    },
    {
      "cell_type": "code",
      "execution_count": null,
      "outputs": [],
      "source": [],
      "metadata": {
        "id": "E8s2dJddP24l"
      }
    }
  ],
  "metadata": {
    "kernelspec": {
      "display_name": "Python 3",
      "language": "python",
      "name": "python3"
    },
    "language_info": {
      "codemirror_mode": {
        "name": "ipython",
        "version": 3
      },
      "file_extension": ".py",
      "mimetype": "text/x-python",
      "name": "python",
      "nbconvert_exporter": "python",
      "pygments_lexer": "ipython3",
      "version": "3.6.6"
    },
    "colab": {
      "provenance": [],
      "include_colab_link": true
    }
  },
  "nbformat": 4,
  "nbformat_minor": 0
}