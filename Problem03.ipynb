{
  "cells": [
    {
      "cell_type": "markdown",
      "metadata": {
        "id": "view-in-github",
        "colab_type": "text"
      },
      "source": [
        "<a href=\"https://colab.research.google.com/github/parisaagh/AI-HW3/blob/main/Problem03.ipynb\" target=\"_parent\"><img src=\"https://colab.research.google.com/assets/colab-badge.svg\" alt=\"Open In Colab\"/></a>"
      ]
    },
    {
      "cell_type": "markdown",
      "source": [
        "### ID information"
      ],
      "metadata": {
        "collapsed": false,
        "id": "_iQMY-zT5reA"
      }
    },
    {
      "cell_type": "code",
      "execution_count": 2,
      "outputs": [
        {
          "output_type": "execute_result",
          "data": {
            "text/plain": [
              "('SUCCESS', 'FAILURE')"
            ]
          },
          "metadata": {},
          "execution_count": 2
        }
      ],
      "source": [
        "def dfs(graph, current_vertex, target, visited=None):\n",
        "    if visited is None:\n",
        "        visited = set()\n",
        "    visited.add(current_vertex)\n",
        "    # If we reached the goal, return success\n",
        "    if current_vertex == target:\n",
        "        return \"SUCCESS\"\n",
        "    # Recur for all the vertices adjacent to this vertex\n",
        "    for neighbor in graph[current_vertex]:\n",
        "        if neighbor not in visited:\n",
        "            result = dfs(graph, neighbor, target, visited)\n",
        "            if result == \"SUCCESS\":\n",
        "                return \"SUCCESS\"\n",
        "    return \"FAILURE\"\n",
        "\n",
        "# Hypothetical representation of the mazes as adjacency lists.\n",
        "# Let's assume that 'S' is the start node and 'G' is the goal node.\n",
        "\n",
        "# This graph represents a maze that has a path from start to goal.\n",
        "solvable_maze_graph = {\n",
        "    'S': ['A'],\n",
        "    'A': ['B', 'C'],\n",
        "    'B': ['A', 'D'],\n",
        "    'C': ['A', 'E'],\n",
        "    'D': ['B', 'F'],\n",
        "    'E': ['C', 'I'],\n",
        "    'F': ['D', 'G', 'J'],\n",
        "    'G': ['F', 'H'],\n",
        "    'H': ['G', 'N'],\n",
        "    'I': ['E', 'M'],\n",
        "    'J': ['F', 'K'],\n",
        "    'K': ['J', 'L'],\n",
        "    'L': ['K', 'P'],\n",
        "    'M': ['I', 'N'],\n",
        "    'N': ['H', 'M', 'O'],\n",
        "    'O': ['N'],\n",
        "    'P': ['L', 'Q'],\n",
        "    'Q': ['P', 'R'],\n",
        "    'R': ['Q', 'G'], # The goal node is connected to R as per the maze's path\n",
        "}\n",
        "\n",
        "\n",
        "# This graph represents a maze with no path from start to goal.\n",
        "unsolvable_maze_graph = {\n",
        "    'S': ['A'],\n",
        "    'A': ['B', 'C'],\n",
        "    'B': ['A', 'D'],\n",
        "    'C': ['A', 'E'],\n",
        "    'D': ['B'],\n",
        "    'E': ['C', 'F'],\n",
        "    'F': ['E', 'I'],\n",
        "    'G': [],  # No nodes lead to G, making the maze unsolvable\n",
        "    'H': ['K'],\n",
        "    'I': ['F', 'J'],\n",
        "    'J': ['I'],\n",
        "    'K': ['H', 'L'],\n",
        "    'L': ['K', 'M'],\n",
        "    'M': ['L', 'N'],\n",
        "    'N': ['M', 'O'],\n",
        "    'O': ['N'],\n",
        "    # The remaining nodes have no connections that lead to the goal 'G'\n",
        "}\n",
        "\n",
        "\n",
        "# Test the DFS algorithm on both mazes.\n",
        "solvable_result = dfs(solvable_maze_graph, 'S', 'G')\n",
        "unsolvable_result = dfs(unsolvable_maze_graph, 'S', 'G')\n",
        "\n",
        "(solvable_result, unsolvable_result)\n"
      ],
      "metadata": {
        "colab": {
          "base_uri": "https://localhost:8080/"
        },
        "id": "4FVA7PSt5reC",
        "outputId": "3bb46165-ab42-401a-e8c7-4e2b6a4c4851"
      }
    },
    {
      "cell_type": "markdown",
      "source": [
        "The code defines a Depth-First Search (DFS) algorithm implemented recursively to traverse graphs, particularly for solving maze problems. Here's a breakdown of the code:\n",
        "\n",
        "1. **dfs function**: This function takes four parameters: the graph (represented as an adjacency list), the current vertex being visited, the target vertex (goal), and a set of visited vertices (initialized as None if not provided).\n",
        "\n",
        "    - The `visited` set keeps track of vertices that have already been visited to prevent revisiting them and avoid infinite loops.\n",
        "\n",
        "    - If `visited` is None, it initializes it as an empty set.\n",
        "\n",
        "2. **Base Cases**:\n",
        "\n",
        "   - If the current vertex is the target vertex, the function returns \"SUCCESS\", indicating that a path to the goal has been found.\n",
        "\n",
        "   - If there are no more adjacent vertices to explore from the current vertex, the function returns \"FAILURE\", indicating that there's no path to the goal from this vertex.\n",
        "\n",
        "3. **DFS traversal**:\n",
        "\n",
        "   - The function iterates through each neighbor of the current vertex.\n",
        "\n",
        "   - For each neighbor, if it has not been visited, the dfs function is called recursively with the neighbor as the new current vertex.\n",
        "\n",
        "   - If any recursive call returns \"SUCCESS\", the function immediately returns \"SUCCESS\", indicating that a path to the goal has been found.\n",
        "\n",
        "   - If none of the recursive calls return \"SUCCESS\" for any neighbor, the function returns \"FAILURE\" after iterating through all neighbors.\n",
        "\n",
        "4. **Testing**:\n",
        "\n",
        "   - The code defines two mazes: `solvable_maze_graph` and `unsolvable_maze_graph`, each represented as an adjacency list.\n",
        "\n",
        "   - `solvable_maze_graph` has a path from the start ('S') to the goal ('G').\n",
        "\n",
        "   - `unsolvable_maze_graph` does not have a path from the start ('S') to the goal ('G').\n",
        "\n",
        "5. **Testing the DFS algorithm**:\n",
        "\n",
        "   - The code tests the DFS algorithm on both mazes by calling the dfs function with the respective maze graphs, the start vertex ('S'), and the goal vertex ('G').\n",
        "\n",
        "   - It assigns the results of the DFS algorithm on both mazes to `solvable_result` and `unsolvable_result`, respectively.\n",
        "\n",
        "6. **Result**:\n",
        "\n",
        "   - Finally, it returns a tuple containing the results of the DFS algorithm on both mazes (`solvable_result` and `unsolvable_result`).\n",
        "\n",
        "This code demonstrates how DFS can be applied to solve maze problems by traversing through the graph and finding a path from the start to the goal vertex."
      ],
      "metadata": {
        "collapsed": false,
        "id": "s-0_lFdU5reE"
      }
    },
    {
      "cell_type": "code",
      "execution_count": null,
      "outputs": [],
      "source": [],
      "metadata": {
        "id": "kMdqkPm45reE"
      }
    }
  ],
  "metadata": {
    "kernelspec": {
      "display_name": "Python 3",
      "language": "python",
      "name": "python3"
    },
    "language_info": {
      "codemirror_mode": {
        "name": "ipython",
        "version": 3
      },
      "file_extension": ".py",
      "mimetype": "text/x-python",
      "name": "python",
      "nbconvert_exporter": "python",
      "pygments_lexer": "ipython3",
      "version": "3.6.6"
    },
    "colab": {
      "provenance": [],
      "include_colab_link": true
    }
  },
  "nbformat": 4,
  "nbformat_minor": 0
}