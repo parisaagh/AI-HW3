{
  "cells": [
    {
      "cell_type": "markdown",
      "metadata": {
        "id": "view-in-github",
        "colab_type": "text"
      },
      "source": [
        "<a href=\"https://colab.research.google.com/github/parisaagh/AI-HW3/blob/main/code.ipynb\" target=\"_parent\"><img src=\"https://colab.research.google.com/assets/colab-badge.svg\" alt=\"Open In Colab\"/></a>"
      ]
    },
    {
      "cell_type": "markdown",
      "metadata": {
        "id": "199oY1CLU34a"
      },
      "source": [
        "A* Algorithm Implementation"
      ]
    },
    {
      "cell_type": "markdown",
      "metadata": {
        "id": "KXQm68deU34c"
      },
      "source": [
        "Defining the graph as per the diagrams provided"
      ]
    },
    {
      "cell_type": "code",
      "execution_count": null,
      "metadata": {
        "id": "XvsDTW-1U34d"
      },
      "outputs": [],
      "source": [
        "graph = {\n",
        "    'S': {'A': 4, 'B': 10, 'C': 11},\n",
        "    'A': {'B': 8, 'D': 5},\n",
        "    'B': {'C': 8, 'D': 15, 'E': 20},\n",
        "    'C': {'E': 20},\n",
        "    'D': {'F': 1, 'H': 16, 'I': 20},\n",
        "    'E': {'G': 19},\n",
        "    'F': {'G': 13},\n",
        "    'H': {'I': 1},\n",
        "    'I': {'J': 13, 'K': 16},\n",
        "    'J': {'K': 7},\n",
        "    'K': {'G': 16}\n",
        "}"
      ]
    },
    {
      "cell_type": "markdown",
      "metadata": {
        "id": "a70SOJvRU34e"
      },
      "source": [
        "Heuristic values for each node as provided in the diagrams"
      ]
    },
    {
      "cell_type": "code",
      "execution_count": null,
      "metadata": {
        "id": "5A8AFwycU34e"
      },
      "outputs": [],
      "source": [
        "heuristic = {\n",
        "    'S': 7, 'A': 8, 'B': 6, 'C': 5, 'D': 5, 'E': 3, 'F': 3, 'G': 0, 'H': 7, 'I': 4, 'J': 5, 'K': 3\n",
        "}"
      ]
    },
    {
      "cell_type": "markdown",
      "metadata": {
        "id": "0JWJ6IeFU34f"
      },
      "source": [
        "Function to find the path using A* algorithm"
      ]
    },
    {
      "cell_type": "code",
      "execution_count": null,
      "metadata": {
        "id": "ejRCcBPEU34f"
      },
      "outputs": [],
      "source": [
        "def a_star_search(start, goal, heuristic_enabled=True, cost_enabled=True):\n",
        "    # Initialize both open and closed lists\n",
        "    open_list = set([start])\n",
        "    closed_list = set([])\n",
        "    # Stores the best path to a node found so far\n",
        "    g = {start: 0}\n",
        "    # Stores parent of a node\n",
        "    parents = {start: start}\n",
        "    while len(open_list) > 0:\n",
        "        n = None\n",
        "        # Select the node with the lowest value of f()\n",
        "        for v in open_list:\n",
        "            if n is None or (g[v] + (heuristic[v] if heuristic_enabled else 0)) < (g[n] + (heuristic[n] if heuristic_enabled else 0)):\n",
        "                n = v\n",
        "        if n is None or n == goal:\n",
        "            break\n",
        "        for m, weight in graph.get(n, {}).items():\n",
        "            # Nodes not yet considered are added to the open list\n",
        "            if m not in open_list and m not in closed_list:\n",
        "                open_list.add(m)\n",
        "                parents[m] = n\n",
        "                g[m] = g[n] + weight\n",
        "            else:\n",
        "                # Check for a better path to m\n",
        "                if g[m] > g[n] + weight:\n",
        "                    g[m] = g[n] + weight\n",
        "                    parents[m] = n\n",
        "                    if m in closed_list:\n",
        "                        closed_list.remove(m)\n",
        "                        open_list.add(m)\n",
        "        open_list.remove(n)\n",
        "        closed_list.add(n)\n",
        "\n",
        "    # Reconstruct path from goal to start\n",
        "    if n == goal:\n",
        "        path = []\n",
        "        while parents[n] != n:\n",
        "            path.append(n)\n",
        "            n = parents[n]\n",
        "        path.append(start)\n",
        "        path.reverse()\n",
        "        return path, g[goal]\n",
        "    else:\n",
        "        return None, None"
      ]
    },
    {
      "cell_type": "markdown",
      "metadata": {
        "id": "5bU0nWq6U34g"
      },
      "source": [
        "Case 1: Standard A* Search"
      ]
    },
    {
      "cell_type": "code",
      "execution_count": null,
      "metadata": {
        "id": "nOZ5fwbcU34g"
      },
      "outputs": [],
      "source": [
        "path, cost = a_star_search('S', 'G', heuristic_enabled=True, cost_enabled=True)\n",
        "print(\"Standard A* path:\", path)\n",
        "print(\"Standard A* cost:\", cost)"
      ]
    },
    {
      "cell_type": "markdown",
      "metadata": {
        "id": "BJEX6ZGiU34g"
      },
      "source": [
        "Case 2: Greedy A* Search (Only heuristic)"
      ]
    },
    {
      "cell_type": "code",
      "execution_count": null,
      "metadata": {
        "id": "THgP2UpYU34h"
      },
      "outputs": [],
      "source": [
        "path, cost = a_star_search('S', 'G', heuristic_enabled=True, cost_enabled=False)\n",
        "print(\"Greedy A* path:\", path)\n",
        "print(\"Greedy A* cost:\", cost)"
      ]
    },
    {
      "cell_type": "markdown",
      "metadata": {
        "id": "V3xT_R_1U34i"
      },
      "source": [
        "Case 3: Dijkstra's Search (Only cost)"
      ]
    },
    {
      "cell_type": "code",
      "execution_count": null,
      "metadata": {
        "id": "jJDZoXHnU34i"
      },
      "outputs": [],
      "source": [
        "path, cost = a_star_search('S', 'G', heuristic_enabled=False, cost_enabled=True)\n",
        "print(\"Dijkstra's path:\", path)\n",
        "print(\"Dijkstra's cost:\", cost)"
      ]
    }
  ],
  "metadata": {
    "kernelspec": {
      "display_name": "Python 3",
      "language": "python",
      "name": "python3"
    },
    "language_info": {
      "codemirror_mode": {
        "name": "ipython",
        "version": 3
      },
      "file_extension": ".py",
      "mimetype": "text/x-python",
      "name": "python",
      "nbconvert_exporter": "python",
      "pygments_lexer": "ipython3",
      "version": "3.6.4"
    },
    "colab": {
      "provenance": [],
      "include_colab_link": true
    }
  },
  "nbformat": 4,
  "nbformat_minor": 0
}