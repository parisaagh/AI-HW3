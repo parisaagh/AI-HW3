{
  "nbformat": 4,
  "nbformat_minor": 0,
  "metadata": {
    "colab": {
      "provenance": [],
      "include_colab_link": true
    },
    "kernelspec": {
      "name": "python3",
      "display_name": "Python 3"
    },
    "language_info": {
      "name": "python"
    }
  },
  "cells": [
    {
      "cell_type": "markdown",
      "metadata": {
        "id": "view-in-github",
        "colab_type": "text"
      },
      "source": [
        "<a href=\"https://colab.research.google.com/github/parisaagh/AI-HW3/blob/main/main.ipynb\" target=\"_parent\"><img src=\"https://colab.research.google.com/assets/colab-badge.svg\" alt=\"Open In Colab\"/></a>"
      ]
    },
    {
      "cell_type": "code",
      "execution_count": null,
      "metadata": {
        "id": "cCljq6MCKgGL"
      },
      "outputs": [],
      "source": [
        "from queue import PriorityQueue\n",
        "\n",
        "class Node:\n",
        "    def __init__(self, name):\n",
        "        self.name = name\n",
        "        self.neighbors = {}\n",
        "\n",
        "    def add_neighbor(self, neighbor, distance):\n",
        "        self.neighbors[neighbor] = distance\n",
        "\n",
        "class Graph:\n",
        "    def __init__(self):\n",
        "        self.nodes = {}\n",
        "\n",
        "    def add_node(self, node):\n",
        "        self.nodes[node.name] = node\n",
        "\n",
        "    def add_edge(self, from_node, to_node, distance):\n",
        "        if from_node in self.nodes and to_node in self.nodes:\n",
        "            self.nodes[from_node].add_neighbor(self.nodes[to_node], distance)\n",
        "            self.nodes[to_node].add_neighbor(self.nodes[from_node], distance)  # For simplicity, making the graph undirected.\n",
        "\n"
      ]
    },
    {
      "cell_type": "code",
      "source": [
        "def a_star_search(graph, start, goal, heuristic, heuristic_enabled=True, cost_enabled=True):\n",
        "    open_set = PriorityQueue()\n",
        "    open_set.put((0, start))\n",
        "    came_from = {}\n",
        "    g_score = {node: float(\"inf\") for node in graph.nodes}\n",
        "    g_score[start] = 0\n",
        "    f_score = {node: float(\"inf\") for node in graph.nodes}\n",
        "    f_score[start] = 0 if not heuristic_enabled else heuristic(start, goal)\n",
        "\n",
        "    while not open_set.empty():\n",
        "        _, current = open_set.get()\n",
        "\n",
        "        if current == goal:\n",
        "            return reconstruct_path(came_from, current)\n",
        "\n",
        "        for neighbor, distance in graph.nodes[current].neighbors.items():\n",
        "            tentative_g_score = g_score[current] + distance if cost_enabled else 0\n",
        "            if tentative_g_score < g_score[neighbor.name]:\n",
        "                came_from[neighbor.name] = current\n",
        "                g_score[neighbor.name] = tentative_g_score\n",
        "                f_score[neighbor.name] = g_score[neighbor.name] + (0 if not heuristic_enabled else heuristic(neighbor.name, goal))\n",
        "                open_set.put((f_score[neighbor.name], neighbor.name))\n",
        "\n",
        "    return None\n"
      ],
      "metadata": {
        "id": "rccuzxdDMf8J"
      },
      "execution_count": null,
      "outputs": []
    },
    {
      "cell_type": "code",
      "source": [
        "def manhattan_distance(node1, node2):\n",
        "    x1, y1 = map(int, node1.split(','))\n",
        "    x2, y2 = map(int, node2.split(','))\n",
        "    return abs(x1 - x2) + abs(y1 - y2) * 0.5  # Adjusted to make heuristic less accurate intentionally.\n",
        "\n",
        "def reconstruct_path(came_from, current):\n",
        "    path = [current]\n",
        "    while current in came_from:\n",
        "        current = came_from[current]\n",
        "        path.append(current)\n",
        "    path.reverse()\n",
        "    return path\n",
        "\n",
        "def create_test_graph_complex():\n",
        "    graph = Graph()\n",
        "    for x in range(3):\n",
        "        for y in range(3):\n",
        "            node_name = f\"{x},{y}\"\n",
        "            graph.add_node(Node(node_name))\n",
        "\n",
        "    # Introducing more complexity in distances to differentiate paths\n",
        "    distances = {\n",
        "        (\"0,0\", \"1,0\"): 1, (\"1,0\", \"2,0\"): 2,\n",
        "        (\"0,0\", \"0,1\"): 2, (\"0,1\", \"0,2\"): 2, (\"0,2\", \"1,2\"): 3, (\"1,2\", \"2,2\"): 1,\n",
        "        (\"2,0\", \"2,1\"): 1, (\"2,1\", \"2,2\"): 1,\n",
        "        (\"1,0\", \"1,1\"): 1, (\"1,1\", \"1,2\"): 1, (\"1,1\", \"2,1\"): 4,\n",
        "    }\n",
        "\n",
        "    for (start, end), distance in distances.items():\n",
        "        graph.add_edge(start, end, distance)\n",
        "\n",
        "    return graph"
      ],
      "metadata": {
        "id": "gvh6OeZYMmbV"
      },
      "execution_count": null,
      "outputs": []
    },
    {
      "cell_type": "code",
      "source": [
        "graph = create_test_graph_complex()\n",
        "start, goal = \"0,0\", \"2,2\"\n",
        "\n",
        "# Test the algorithms with the new graph and heuristic\n",
        "print(\"Standard A* Path:\", a_star_search(graph, start, goal, manhattan_distance, heuristic_enabled=True, cost_enabled=True))\n",
        "print(\"Greedy A* Path:\", a_star_search(graph, start, goal, manhattan_distance, heuristic_enabled=True, cost_enabled=False))\n",
        "print(\"Dijkstra's Path:\", a_star_search(graph, start, goal, manhattan_distance, heuristic_enabled=False, cost_enabled=True))\n"
      ],
      "metadata": {
        "colab": {
          "base_uri": "https://localhost:8080/"
        },
        "id": "jzgQw0LDMpF3",
        "outputId": "3df509b0-e6d5-4f83-c8ff-2ff307d6025c"
      },
      "execution_count": null,
      "outputs": [
        {
          "output_type": "stream",
          "name": "stdout",
          "text": [
            "Standard A* Path: ['0,0', '1,0', '1,1', '1,2', '2,2']\n",
            "Greedy A* Path: ['0,0', '1,0', '2,0', '2,1', '2,2']\n",
            "Dijkstra's Path: ['0,0', '1,0', '1,1', '1,2', '2,2']\n"
          ]
        }
      ]
    }
  ]
}